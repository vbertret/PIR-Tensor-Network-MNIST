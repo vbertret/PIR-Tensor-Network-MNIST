{
 "cells": [
  {
   "cell_type": "markdown",
   "id": "annual-columbus",
   "metadata": {},
   "source": [
    "# Notebook avec différentes expériences"
   ]
  },
  {
   "cell_type": "code",
   "execution_count": 1,
   "id": "precise-second",
   "metadata": {},
   "outputs": [],
   "source": [
    "import numpy as np\n",
    "import src as tn\n",
    "#%matplotlib widget\n",
    "import matplotlib.pyplot as plt\n",
    "plt.style.use('ggplot')"
   ]
  },
  {
   "cell_type": "markdown",
   "id": "growing-crack",
   "metadata": {},
   "source": [
    "## Expérience 1 : Dataset aléatoire avec algo DMRG et gradient conjugué"
   ]
  },
  {
   "cell_type": "code",
   "execution_count": 2,
   "id": "surrounded-authorization",
   "metadata": {},
   "outputs": [],
   "source": [
    "#Importation des fonctions nécessaires\n",
    "from src.data.make_dataset import make_dataset_easy , make_dataset_random\n",
    "from src.tensor_network.modelMPS import ModelMPS\n",
    "from src.tensor.tensor import contractMPS"
   ]
  },
  {
   "cell_type": "code",
   "execution_count": 3,
   "id": "overhead-robinson",
   "metadata": {},
   "outputs": [
    {
     "name": "stdout",
     "output_type": "stream",
     "text": [
      "0.0019875565364345068\n",
      "1.583669599323317e-18\n",
      "1.0956456771426892e-23\n",
      "Accuracy :  100.0 %\n"
     ]
    }
   ],
   "source": [
    "#Creation dataset\n",
    "N=50 ; nbExample=10 ; nbClass=2\n",
    "data,y = make_dataset_random(N,nbExample,nbClass)\n",
    "\n",
    "#Création du modèle\n",
    "A = ModelMPS(N,nbClass)\n",
    "A.algo(\"DMRG\")\n",
    "A.onesInitialisation(5,0.15)\n",
    "\n",
    "#Entrainement du modèle\n",
    "err=[]\n",
    "for epoch in range(3):\n",
    "    alpha=9*10**(0)\n",
    "    err += A.trainDMRG_test(data,y,alpha)\n",
    "    print(err[-1])\n",
    "\n",
    "#Evaluation du modèle\n",
    "acc = A.accuracy(data,y)\n",
    "\n",
    "print(\"Accuracy : \", acc*100 , \"%\") "
   ]
  },
  {
   "cell_type": "code",
   "execution_count": 4,
   "id": "breathing-script",
   "metadata": {},
   "outputs": [
    {
     "data": {
      "image/png": "[encoded data removed]",
      "text/plain": [
       "<Figure size 432x288 with 1 Axes>"
      ]
     },
     "metadata": {},
     "output_type": "display_data"
    }
   ],
   "source": [
    "#%matplotlib widget\n",
    "plt.plot(err)\n",
    "plt.show()"
   ]
  },
  {
   "cell_type": "markdown",
   "id": "dated-ridge",
   "metadata": {},
   "source": [
    "## Experience 2 : Test de m lors de l'initialisation"
   ]
  },
  {
   "cell_type": "code",
   "execution_count": 3,
   "id": "indoor-watershed",
   "metadata": {},
   "outputs": [],
   "source": [
    "from src.tensor.tensor import contractMPS\n",
    "from src.mapping.phi import phi , Phi"
   ]
  },
  {
   "cell_type": "code",
   "execution_count": 18,
   "id": "cheap-monroe",
   "metadata": {},
   "outputs": [
    {
     "name": "stdout",
     "output_type": "stream",
     "text": [
      "[0.20963814 0.20963814]\n",
      "4970\n"
     ]
    }
   ],
   "source": [
    "#Creation dataset\n",
    "N=100 ; nbExample=30 ; nbClass=2\n",
    "data,y = make_dataset_random(N,nbExample,nbClass)\n",
    "\n",
    "#Création du modèle\n",
    "A = ModelMPS(N,nbClass)\n",
    "A.algo(\"DMRG\")\n",
    "A.onesInitialisation(5,0.155)\n",
    "\n",
    "max_y=np.zeros((2))\n",
    "for nb in range(nbExample):\n",
    "    p=Phi(data[nb])\n",
    "    y_hat=contractMPS(A.W,p)\n",
    "    if all(y_hat> max_y):\n",
    "        max_y=y_hat\n",
    "print(max_y)\n",
    "\n",
    "nb_el_W=0\n",
    "for i in range(len(A.W)):\n",
    "    nb_el_W+= np.prod(A.W[i].shape)\n",
    "print(nb_el_W)"
   ]
  },
  {
   "cell_type": "markdown",
   "id": "emotional-irrigation",
   "metadata": {},
   "source": [
    "## Experience 3 : Comparaison pas fixe et gradient conjugué"
   ]
  },
  {
   "cell_type": "code",
   "execution_count": 10,
   "id": "chubby-heather",
   "metadata": {},
   "outputs": [
    {
     "name": "stdout",
     "output_type": "stream",
     "text": [
      "3.6869906085020295e-06\n",
      "3.2858849983242896e-18\n",
      "2.373008225346113e-22\n",
      "0.36386851387087443\n",
      "0.22509085916010943\n",
      "0.18199386509024107\n",
      "Accuracy A :  100.0 %\n",
      "Accuracy B :  80.0 %\n"
     ]
    }
   ],
   "source": [
    "#Creation dataset\n",
    "N=50 ; nbExample=10 ; nbClass=2\n",
    "data,y = make_dataset_random(N,nbExample,nbClass)\n",
    "\n",
    "#Création des modèles\n",
    "A = ModelMPS(N,nbClass)\n",
    "A.algo(\"DMRG\")\n",
    "A.onesInitialisation(5,0.15)\n",
    "\n",
    "B = ModelMPS(N,nbClass)\n",
    "B.algo(\"DMRG\")\n",
    "B.onesInitialisation(5,0.15)\n",
    "\n",
    "#Entrainement des modèles\n",
    "errA=[]\n",
    "for epoch in range(3):\n",
    "    alpha=9*10**(0)\n",
    "    errA += A.trainDMRG_test(data,y,alpha)\n",
    "    print(errA[-1])\n",
    "    \n",
    "errB=[]\n",
    "for epoch in range(3):\n",
    "    alpha=9*10**(0)\n",
    "    errB += B.trainDMRG(data,y,alpha)\n",
    "    print(errB[-1])\n",
    "    \n",
    "#Evaluation du modèle\n",
    "acc1 = A.accuracy(data,y)\n",
    "acc2 = B.accuracy(data,y)\n",
    "\n",
    "print(\"Accuracy A : \", acc1*100 , \"%\") \n",
    "print(\"Accuracy B : \", acc2*100 , \"%\") "
   ]
  },
  {
   "cell_type": "code",
   "execution_count": 13,
   "id": "developing-secondary",
   "metadata": {},
   "outputs": [
    {
     "data": {
      "image/png": "[encoded data removed]",
      "text/plain": [
       "<Figure size 432x288 with 1 Axes>"
      ]
     },
     "metadata": {},
     "output_type": "display_data"
    }
   ],
   "source": [
    "plt.plot(range(len(errA)),errA,range(len(errB)),errB)\n",
    "plt.show()"
   ]
  },
  {
   "cell_type": "markdown",
   "id": "afraid-scottish",
   "metadata": {},
   "source": [
    "## Experience 5 : TEST sur MNIST"
   ]
  },
  {
   "cell_type": "code",
   "execution_count": 7,
   "id": "dietary-input",
   "metadata": {},
   "outputs": [],
   "source": [
    "from src.data.make_dataset import load_MNIST_dataset_small , convert_one_hot_encoding\n",
    "from src.tensor_network.modelMPS import ModelMPS\n",
    "from src.tensor.tensor import contractMPS\n",
    "from src.mapping.phi import phi"
   ]
  },
  {
   "cell_type": "code",
   "execution_count": 8,
   "id": "miniature-victorian",
   "metadata": {},
   "outputs": [
    {
     "name": "stdout",
     "output_type": "stream",
     "text": [
      "Hello\n"
     ]
    },
    {
     "ename": "TypeError",
     "evalue": "cannot unpack non-iterable NoneType object",
     "output_type": "error",
     "traceback": [
      "\u001b[1;31m---------------------------------------------------------------------------\u001b[0m",
      "\u001b[1;31mTypeError\u001b[0m                                 Traceback (most recent call last)",
      "\u001b[1;32m<ipython-input-8-f99ce5160e6d>\u001b[0m in \u001b[0;36m<module>\u001b[1;34m\u001b[0m\n\u001b[0;32m      1\u001b[0m \u001b[1;31m#Creation dataset\u001b[0m\u001b[1;33m\u001b[0m\u001b[1;33m\u001b[0m\u001b[1;33m\u001b[0m\u001b[0m\n\u001b[1;32m----> 2\u001b[1;33m \u001b[0mtrain_data\u001b[0m \u001b[1;33m,\u001b[0m \u001b[0mtest_data\u001b[0m \u001b[1;33m,\u001b[0m \u001b[0mtrain_labels\u001b[0m \u001b[1;33m,\u001b[0m \u001b[0mtest_labels\u001b[0m \u001b[1;33m=\u001b[0m \u001b[0mload_MNIST_dataset_small\u001b[0m\u001b[1;33m(\u001b[0m\u001b[1;33m)\u001b[0m\u001b[1;33m\u001b[0m\u001b[1;33m\u001b[0m\u001b[0m\n\u001b[0m\u001b[0;32m      3\u001b[0m \u001b[0mtrain_labels\u001b[0m \u001b[1;33m=\u001b[0m \u001b[0mconvert_one_hot_encoding\u001b[0m\u001b[1;33m(\u001b[0m\u001b[0mtrain_labels\u001b[0m\u001b[1;33m)\u001b[0m\u001b[1;33m\u001b[0m\u001b[1;33m\u001b[0m\u001b[0m\n\u001b[0;32m      4\u001b[0m \u001b[0mtest_labels\u001b[0m \u001b[1;33m=\u001b[0m \u001b[0mconvert_one_hot_encoding\u001b[0m\u001b[1;33m(\u001b[0m\u001b[0mtest_labels\u001b[0m\u001b[1;33m)\u001b[0m\u001b[1;33m\u001b[0m\u001b[1;33m\u001b[0m\u001b[0m\n\u001b[0;32m      5\u001b[0m \u001b[0mN\u001b[0m\u001b[1;33m=\u001b[0m\u001b[0mtrain_data\u001b[0m\u001b[1;33m.\u001b[0m\u001b[0mshape\u001b[0m\u001b[1;33m[\u001b[0m\u001b[1;36m1\u001b[0m\u001b[1;33m]\u001b[0m\u001b[1;33m*\u001b[0m\u001b[0mtrain_data\u001b[0m\u001b[1;33m.\u001b[0m\u001b[0mshape\u001b[0m\u001b[1;33m[\u001b[0m\u001b[1;36m2\u001b[0m\u001b[1;33m]\u001b[0m\u001b[1;33m\u001b[0m\u001b[1;33m\u001b[0m\u001b[0m\n",
      "\u001b[1;31mTypeError\u001b[0m: cannot unpack non-iterable NoneType object"
     ]
    }
   ],
   "source": [
    "#Creation dataset\n",
    "train_data , test_data , train_labels , test_labels = load_MNIST_dataset_small()\n",
    "train_labels = convert_one_hot_encoding(train_labels)\n",
    "test_labels = convert_one_hot_encoding(test_labels)\n",
    "N=train_data.shape[1]*train_data.shape[2]\n",
    "\n",
    "#Plus petit Ensemble\n",
    "train_data = train_data[0:10]\n",
    "train_labels = train_labels[0:10]\n",
    "\n",
    "test_data = test_data[0:10]\n",
    "test_labels = test_labels[0:10]"
   ]
  },
  {
   "cell_type": "code",
   "execution_count": null,
   "id": "thousand-channel",
   "metadata": {},
   "outputs": [],
   "source": [
    "#Création du modèle\n",
    "A = ModelMPS(N,10)\n",
    "A.algo(\"DMRG\")\n",
    "A.normalInitialisation(5,0.33)\n",
    "\n",
    "max_y=np.zeros((2))\n",
    "for nb in range(nbExample):\n",
    "    p=Phi(data[nb])\n",
    "    y_hat=contractMPS(A.W,p)\n",
    "    if all(y_hat> max_y):\n",
    "        max_y=y_hat\n",
    "print(max_y)"
   ]
  },
  {
   "cell_type": "code",
   "execution_count": null,
   "id": "weird-street",
   "metadata": {},
   "outputs": [],
   "source": [
    "#Entrainement du modèle\n",
    "err=[]\n",
    "for epoch in range(8):\n",
    "    err +=  A.trainDMRG_test(train_data,train_labels,0.3)  # A.train(train_data,train_labels,alpha)\n",
    "    print(f\"Erreur apprentissage : {err[-1]}.\")\n",
    "\n",
    "    #Evaluation du modèle\n",
    "    acc = A.accuracy(test_data,test_labels)\n",
    "    print(\"Taux de bonne classification ( test ) : \", acc*100 , \"%\") \n",
    "\n",
    "\n",
    "\n",
    "plt.plot(err)\n",
    "plt.show()"
   ]
  }
 ],
 "metadata": {
  "kernelspec": {
   "display_name": "Python 3",
   "language": "python",
   "name": "python3"
  },
  "language_info": {
   "codemirror_mode": {
    "name": "ipython",
    "version": 3
   },
   "file_extension": ".py",
   "mimetype": "text/x-python",
   "name": "python",
   "nbconvert_exporter": "python",
   "pygments_lexer": "ipython3",
   "version": "3.8.7"
  }
 },
 "nbformat": 4,
 "nbformat_minor": 5
}
